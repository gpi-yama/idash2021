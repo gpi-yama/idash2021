{
 "cells": [
  {
   "cell_type": "markdown",
   "id": "496507c0",
   "metadata": {},
   "source": [
    "# Visualization of in low dimentional distribution\n",
    "本ページでは、nucleotidoのシークエンスをembedする方法を検討する。  \n",
    "それにあたって、nucleotidoをシークエンスごとに切り出した上で、  \n",
    "それを一つのトークンと考えてラベルエンコーディング  \n",
    "さらに、それを使ってPCAやt-SNEなどの可視化を行い、分類方法を検討する。\n",
    "\n",
    "## Summary\n",
    "- PCA\n",
    "- PSL\n",
    "などの手法で2次元にマッピングしたが、ラベルの異なる遺伝子が重なっており、分離しきれていないことがわかった。  \n",
    "これらの手法を用いる場合は、それなりに高次元の空間にマッピングする必要があるのではないかと思われる。  \n",
    "\n",
    "- t-SNE\n",
    "- UMAP\n",
    "については PCAよりはよく分離できていることがわかる。  \n",
    "特にt-SNEについては、そのことがよくわかる  \n",
    "\n",
    "小さくしすぎない範囲で低次元にマッピングし  \n",
    "非線形の分類手法を使えば、  \n",
    "ある程度の精度で分類できるのではないかと考えた。  "
   ]
  },
  {
   "cell_type": "code",
   "execution_count": 24,
   "id": "f426c02c",
   "metadata": {},
   "outputs": [],
   "source": [
    "import numpy as np\n",
    "# import editdistance\n",
    "import pandas as pd\n",
    "\n",
    "import matplotlib.pyplot as plt\n",
    "# import umap\n",
    "\n",
    "from sklearn.preprocessing import LabelEncoder, OneHotEncoder\n",
    "from sklearn.decomposition import PCA\n",
    "from sklearn.cross_decomposition import PLSRegression"
   ]
  },
  {
   "cell_type": "code",
   "execution_count": 4,
   "id": "ef89bdf3",
   "metadata": {},
   "outputs": [],
   "source": [
    "MAX_SEQ = 30000\n",
    "K = 16\n",
    "N = 16000"
   ]
  },
  {
   "cell_type": "code",
   "execution_count": 5,
   "id": "477f7142",
   "metadata": {},
   "outputs": [],
   "source": [
    "strain2num = {'B.1.1.7': 0, 'B.1.427': 1, 'B.1.526': 2, 'P.1': 3}"
   ]
  },
  {
   "cell_type": "code",
   "execution_count": 6,
   "id": "824798b2",
   "metadata": {},
   "outputs": [],
   "source": [
    "acid2num = {'A': 1, 'C': 2, 'G':3, 'T':4, 'N':0}"
   ]
  },
  {
   "cell_type": "markdown",
   "id": "6925c8d3",
   "metadata": {},
   "source": [
    "# シークエンスごとに取り出す\n",
    "シークエンス長さKを使って、Kごとに切り出す。  "
   ]
  },
  {
   "cell_type": "code",
   "execution_count": 8,
   "id": "ad16ca1e",
   "metadata": {},
   "outputs": [],
   "source": [
    "with open(\"dataset/Challenge.fa\", \"r\") as f:\n",
    "    a = f.readlines()\n",
    "    labels = []\n",
    "    eds = []\n",
    "\n",
    "#     print(\"edit distance between idx 1 and 2500:\", \n",
    "#           editdistance.eval(a[1], a[5001]))\n",
    "\n",
    "    for i in range(int(N/2)):\n",
    "        labels.append(strain2num[a[i*2][1:].split(\"_\")[0]])\n",
    "\n",
    "    unique_seq = set()\n",
    "    sequences = []\n",
    "    for i in range(int(N/2)):\n",
    "        seq = list(map(lambda x : \"\".join(x), \n",
    "                       np.append(np.array(list(a[i*2+1])), \n",
    "                                [\"O\" for i in range(MAX_SEQ - len(a[i*2+1]))])\n",
    "                       .reshape(8, -1)\n",
    "                       .transpose()\n",
    "                       .tolist()))\n",
    "        sequences.append(seq)\n",
    "        unique_seq |= set(seq)"
   ]
  },
  {
   "cell_type": "markdown",
   "id": "d4b51978",
   "metadata": {},
   "source": [
    "編集距離は約30,000の長さのうち429ということで約1%の差になっている。"
   ]
  },
  {
   "cell_type": "code",
   "execution_count": 9,
   "id": "71ef6735",
   "metadata": {},
   "outputs": [],
   "source": [
    "del a"
   ]
  },
  {
   "cell_type": "markdown",
   "id": "75bba9e3",
   "metadata": {},
   "source": [
    "# Encode indices\n",
    "ラベルエンコーディングでエンコードする"
   ]
  },
  {
   "cell_type": "code",
   "execution_count": null,
   "id": "c517da64",
   "metadata": {},
   "outputs": [],
   "source": [
    "enc = LabelEncoder()\n",
    "enc.fit(list(unique_seq))\n",
    "ids = enc.transform(np.array(sequences).reshape(-1)).reshape(len(sequences), -1)"
   ]
  },
  {
   "cell_type": "code",
   "execution_count": 12,
   "id": "c393ca4f",
   "metadata": {},
   "outputs": [
    {
     "data": {
      "text/plain": [
       "(8000, 3750)"
      ]
     },
     "execution_count": 12,
     "metadata": {},
     "output_type": "execute_result"
    }
   ],
   "source": [
    "ids.shape"
   ]
  },
  {
   "cell_type": "markdown",
   "id": "035478c5",
   "metadata": {},
   "source": [
    "# Visualization\n",
    "ここでは\n",
    "- PCA\n",
    "- PSL\n",
    "- UMAP\n",
    "- t-SNE\n",
    "\n",
    "での可視化を行う\n",
    "\n",
    "## PCA"
   ]
  },
  {
   "cell_type": "code",
   "execution_count": 63,
   "id": "3d0fdc84",
   "metadata": {},
   "outputs": [],
   "source": [
    "pca = PCA(n_components=200)\n",
    "pca.fit(ids)\n",
    "trf = pca.transform(ids)"
   ]
  },
  {
   "cell_type": "code",
   "execution_count": 18,
   "id": "56e72cd3",
   "metadata": {},
   "outputs": [
    {
     "data": {
      "text/plain": [
       "<matplotlib.collections.PathCollection at 0x7ff77df88910>"
      ]
     },
     "execution_count": 18,
     "metadata": {},
     "output_type": "execute_result"
    },
    {
     "data": {
      "image/png": "[encoded data removed]",
      "text/plain": [
       "<Figure size 432x288 with 1 Axes>"
      ]
     },
     "metadata": {
      "needs_background": "light"
     },
     "output_type": "display_data"
    }
   ],
   "source": [
    "plt.scatter(trf[:, 0], trf[:, 1], c=labels[:len(trf)])"
   ]
  },
  {
   "cell_type": "markdown",
   "id": "bae916b2",
   "metadata": {},
   "source": [
    "## PLS"
   ]
  },
  {
   "cell_type": "code",
   "execution_count": 64,
   "id": "4eb85663",
   "metadata": {},
   "outputs": [],
   "source": [
    "pls2 = PLSRegression(n_components=200)\n",
    "pls2.fit(ids, labels[:len(ids)])\n",
    "trf2 = pls2.transform(ids)"
   ]
  },
  {
   "cell_type": "code",
   "execution_count": 20,
   "id": "0a334d40",
   "metadata": {},
   "outputs": [
    {
     "data": {
      "text/plain": [
       "<matplotlib.collections.PathCollection at 0x7ff77db00910>"
      ]
     },
     "execution_count": 20,
     "metadata": {},
     "output_type": "execute_result"
    },
    {
     "data": {
      "image/png": "[encoded data removed]",
      "text/plain": [
       "<Figure size 432x288 with 1 Axes>"
      ]
     },
     "metadata": {
      "needs_background": "light"
     },
     "output_type": "display_data"
    }
   ],
   "source": [
    "plt.scatter(trf2[:, 0], trf2[:, 1], c=labels[:len(trf2)])"
   ]
  },
  {
   "cell_type": "markdown",
   "id": "33a19756",
   "metadata": {},
   "source": [
    "## UMAP"
   ]
  },
  {
   "cell_type": "code",
   "execution_count": 15,
   "id": "99e8d6af",
   "metadata": {},
   "outputs": [
    {
     "name": "stderr",
     "output_type": "stream",
     "text": [
      "/Users/yamaguchir/miniconda3/envs/idash/lib/python3.8/site-packages/sklearn/manifold/_spectral_embedding.py:245: UserWarning: Graph is not fully connected, spectral embedding may not work as expected.\n",
      "  warnings.warn(\"Graph is not fully connected, spectral embedding\"\n"
     ]
    },
    {
     "data": {
      "text/plain": [
       "<matplotlib.collections.PathCollection at 0x7ff77d80c9d0>"
      ]
     },
     "execution_count": 15,
     "metadata": {},
     "output_type": "execute_result"
    },
    {
     "data": {
      "image/png": "[encoded data removed]",
      "text/plain": [
       "<Figure size 432x288 with 1 Axes>"
      ]
     },
     "metadata": {
      "needs_background": "light"
     },
     "output_type": "display_data"
    }
   ],
   "source": [
    "mapper = umap.UMAP(random_state=0)\n",
    "embedding = mapper.fit_transform(ids)\n",
    "plt.scatter(embedding[:, 0], embedding[:, 1], c=labels[:len(embedding)])"
   ]
  },
  {
   "cell_type": "markdown",
   "id": "3e13efce",
   "metadata": {},
   "source": [
    "## TSNE"
   ]
  },
  {
   "cell_type": "code",
   "execution_count": 16,
   "id": "6b2816be",
   "metadata": {},
   "outputs": [
    {
     "data": {
      "text/plain": [
       "<matplotlib.collections.PathCollection at 0x7ff776707c10>"
      ]
     },
     "execution_count": 16,
     "metadata": {},
     "output_type": "execute_result"
    },
    {
     "data": {
      "image/png": "[encoded data removed]",
      "text/plain": [
       "<Figure size 432x288 with 1 Axes>"
      ]
     },
     "metadata": {
      "needs_background": "light"
     },
     "output_type": "display_data"
    }
   ],
   "source": [
    "from sklearn.manifold import TSNE\n",
    "embedding2 = TSNE(n_components=2).fit_transform(ids)\n",
    "plt.scatter(embedding2[:, 0], embedding2[:, 1], c=labels[:len(embedding2)], )"
   ]
  },
  {
   "cell_type": "code",
   "execution_count": 14,
   "id": "79ee00aa",
   "metadata": {},
   "outputs": [],
   "source": [
    "from sklearn.model_selection import train_test_split"
   ]
  },
  {
   "cell_type": "code",
   "execution_count": 79,
   "id": "a14b09c4",
   "metadata": {},
   "outputs": [],
   "source": [
    "f = np.abs(np.fft.fft(ids)) ** 2\n",
    "X = ids.reshape(-1, f.shape[1]) # np.append(trf, trf2, axis=1)\n",
    "# X = (X - X.mean()) / X.std()\n",
    "\n",
    "enc = OneHotEncoder()\n",
    "\n",
    "Y = np.array(labels).reshape(-1,1)\n",
    "\n",
    "Y = enc.fit_transform(Y)\n",
    "Y = np.array(Y.toarray(), dtype=\"int32\")"
   ]
  },
  {
   "cell_type": "code",
   "execution_count": 80,
   "id": "e3a93120",
   "metadata": {},
   "outputs": [],
   "source": [
    "x_train, x_test, y_train, y_test = train_test_split(X, Y, test_size=0.1)"
   ]
  },
  {
   "cell_type": "code",
   "execution_count": 83,
   "id": "48f943d1",
   "metadata": {},
   "outputs": [],
   "source": [
    "pca = PCA(n_components=100)\n",
    "pls = PLSRegression(n_components=100)\n",
    "pca.fit(x_train)\n",
    "pls.fit(x_train, y_train)\n",
    "x_train = np.append(pca.transform(x_train), pls.transform(x_train), axis=1)\n",
    "x_test = np.append(pca.transform(x_test), pls.transform(x_test), axis=1)"
   ]
  },
  {
   "cell_type": "code",
   "execution_count": 85,
   "id": "a4ae856e",
   "metadata": {},
   "outputs": [],
   "source": [
    "mean, std = x_train.mean(), x_train.std()\n",
    "standardize = lambda x: (x - mean) / std\n",
    "\n",
    "x_train = standardize(x_train)\n",
    "x_test = standardize(x_test)"
   ]
  },
  {
   "cell_type": "code",
   "execution_count": 1,
   "id": "34cc5031",
   "metadata": {},
   "outputs": [],
   "source": [
    "import tensorflow as tf\n",
    "from tensorflow.keras.models import Sequential\n",
    "from tensorflow.keras.layers import Dense, Activation, Conv1D, MaxPooling1D, GlobalAveragePooling1D, AveragePooling1D, Conv2D\n",
    "from tensorflow.keras.optimizers import Adam\n",
    "from sklearn.model_selection import train_test_split"
   ]
  },
  {
   "cell_type": "code",
   "execution_count": 87,
   "id": "172f6733",
   "metadata": {},
   "outputs": [],
   "source": [
    "x_train = x_train.reshape(-1, 200, 1)\n",
    "x_test = x_test.reshape(-1, 200, 1)"
   ]
  },
  {
   "cell_type": "code",
   "execution_count": 3,
   "id": "23702d33",
   "metadata": {},
   "outputs": [
    {
     "ename": "NameError",
     "evalue": "name 'tf' is not defined",
     "output_type": "error",
     "traceback": [
      "\u001b[0;31m---------------------------------------------------------------------------\u001b[0m",
      "\u001b[0;31mNameError\u001b[0m                                 Traceback (most recent call last)",
      "\u001b[0;32m<ipython-input-3-1e8d436541f8>\u001b[0m in \u001b[0;36m<module>\u001b[0;34m\u001b[0m\n\u001b[1;32m      5\u001b[0m \u001b[0;34m\u001b[0m\u001b[0m\n\u001b[1;32m      6\u001b[0m \u001b[0;34m\u001b[0m\u001b[0m\n\u001b[0;32m----> 7\u001b[0;31m \u001b[0;32mclass\u001b[0m \u001b[0mApproximatedSwish\u001b[0m\u001b[0;34m(\u001b[0m\u001b[0mtf\u001b[0m\u001b[0;34m.\u001b[0m\u001b[0mkeras\u001b[0m\u001b[0;34m.\u001b[0m\u001b[0mlayers\u001b[0m\u001b[0;34m.\u001b[0m\u001b[0mLayer\u001b[0m\u001b[0;34m)\u001b[0m\u001b[0;34m:\u001b[0m\u001b[0;34m\u001b[0m\u001b[0;34m\u001b[0m\u001b[0m\n\u001b[0m\u001b[1;32m      8\u001b[0m     \u001b[0;32mdef\u001b[0m \u001b[0m__init__\u001b[0m\u001b[0;34m(\u001b[0m\u001b[0mself\u001b[0m\u001b[0;34m,\u001b[0m \u001b[0mdegree\u001b[0m\u001b[0;34m=\u001b[0m\u001b[0;36m2\u001b[0m\u001b[0;34m,\u001b[0m \u001b[0mranges\u001b[0m\u001b[0;34m=\u001b[0m\u001b[0;36m4\u001b[0m\u001b[0;34m,\u001b[0m \u001b[0;34m**\u001b[0m\u001b[0mkwargs\u001b[0m\u001b[0;34m)\u001b[0m\u001b[0;34m:\u001b[0m\u001b[0;34m\u001b[0m\u001b[0;34m\u001b[0m\u001b[0m\n\u001b[1;32m      9\u001b[0m         \u001b[0msuper\u001b[0m\u001b[0;34m(\u001b[0m\u001b[0mApproximatedSwish\u001b[0m\u001b[0;34m,\u001b[0m \u001b[0mself\u001b[0m\u001b[0;34m)\u001b[0m\u001b[0;34m.\u001b[0m\u001b[0m__init__\u001b[0m\u001b[0;34m(\u001b[0m\u001b[0;34m**\u001b[0m\u001b[0mkwargs\u001b[0m\u001b[0;34m)\u001b[0m\u001b[0;34m\u001b[0m\u001b[0;34m\u001b[0m\u001b[0m\n",
      "\u001b[0;31mNameError\u001b[0m: name 'tf' is not defined"
     ]
    }
   ],
   "source": [
    "# Refarences:\n",
    "# Highly Accurate CNN Inference Using Approximate Activation Functions over Homomorphic Encryption\n",
    "# Takumi Ishiyama, Takuya Suzuki, Hayato Yamana, Waseda Univ.\n",
    "# https://arxiv.org/pdf/2009.03727.pdf\n",
    "\n",
    "\n",
    "class ApproximatedSwish(tf.keras.layers.Layer):\n",
    "    def __init__(self, degree=2, ranges=4, **kwargs):\n",
    "        super(ApproximatedSwish, self).__init__(**kwargs)\n",
    "        if degree == 2:\n",
    "            if ranges == 4:\n",
    "                self._func = lambda x: 0.12592 + 0.5*x + 0.145276*(x**2)\n",
    "            elif ranges == 6:\n",
    "                self._func = lambda x: 0.0851505 + 0.5*x + 0.344125*(x**2)\n",
    "            else:\n",
    "                raise ValueError(f\"Approximated swish range is 4 or 6. not {ranges}\")\n",
    "        elif degree == 4:\n",
    "            if ranges == 4:\n",
    "                self._func = lambda x: 0.03347 + 0.5*x + 0.19566*(x**2) - 0.005075*(x**4)\n",
    "            elif ranges == 6:\n",
    "                self._func = lambda x: 0.1198 + 0.5*x + 0.1473*(x**2) - 0.002012*(x**4)\n",
    "            else:\n",
    "                raise ValueError(f\"Approximated swish range is 4 or 6. not {ranges}\")\n",
    "\n",
    "    def call(self, x):\n",
    "        return self._func(x)"
   ]
  },
  {
   "cell_type": "code",
   "execution_count": 94,
   "id": "1d18ce33",
   "metadata": {},
   "outputs": [],
   "source": [
    "model = Sequential([\n",
    "    Conv1D(16, 11, input_shape=(x_train.shape[1], x_train.shape[2]), strides=2),\n",
    "    ApproximatedSwish(degree=2, ranges=4)\n",
    "    Conv1D(32, 15, strides=2),\n",
    "    ApproximatedSwish(degree=2, ranges=4)\n",
    "    Conv1D(64, 21, strides=2),\n",
    "    ApproximatedSwish(degree=2, ranges=4)\n",
    "    GlobalAveragePooling1D(),\n",
    "    Dense(4),\n",
    "    Activation('softmax'),\n",
    "])\n",
    "\n",
    "optimizer = Adam(learning_rate=0.001)\n",
    "\n",
    "model.compile(optimizer=optimizer,\n",
    "              loss='categorical_crossentropy',\n",
    "              metrics=['accuracy'])"
   ]
  },
  {
   "cell_type": "code",
   "execution_count": 96,
   "id": "0f2aa3ce",
   "metadata": {},
   "outputs": [
    {
     "name": "stdout",
     "output_type": "stream",
     "text": [
      "Epoch 1/30\n",
      "225/225 [==============================] - 1s 6ms/step - loss: 0.2134 - accuracy: 0.9214 - val_loss: 0.3550 - val_accuracy: 0.9162\n",
      "Epoch 2/30\n",
      "225/225 [==============================] - 1s 6ms/step - loss: 0.2115 - accuracy: 0.9258 - val_loss: 0.3106 - val_accuracy: 0.9212\n",
      "Epoch 3/30\n",
      "225/225 [==============================] - 1s 6ms/step - loss: 0.1981 - accuracy: 0.9315 - val_loss: 0.3144 - val_accuracy: 0.9187\n",
      "Epoch 4/30\n",
      "225/225 [==============================] - 1s 6ms/step - loss: 0.1912 - accuracy: 0.9332 - val_loss: 0.3173 - val_accuracy: 0.9262\n",
      "Epoch 5/30\n",
      "225/225 [==============================] - 1s 6ms/step - loss: 0.1825 - accuracy: 0.9333 - val_loss: 0.3000 - val_accuracy: 0.9375\n",
      "Epoch 6/30\n",
      "225/225 [==============================] - 1s 6ms/step - loss: 0.1835 - accuracy: 0.9353 - val_loss: 0.3196 - val_accuracy: 0.9312\n",
      "Epoch 7/30\n",
      "225/225 [==============================] - 1s 6ms/step - loss: 0.1790 - accuracy: 0.9356 - val_loss: 0.3080 - val_accuracy: 0.9375\n",
      "Epoch 8/30\n",
      "225/225 [==============================] - 1s 6ms/step - loss: 0.1678 - accuracy: 0.9425 - val_loss: 0.3098 - val_accuracy: 0.9400\n",
      "Epoch 9/30\n",
      "225/225 [==============================] - 1s 6ms/step - loss: 0.1639 - accuracy: 0.9428 - val_loss: 0.3202 - val_accuracy: 0.9300\n",
      "Epoch 10/30\n",
      "225/225 [==============================] - 1s 6ms/step - loss: 0.1574 - accuracy: 0.9481 - val_loss: 0.3132 - val_accuracy: 0.9438\n",
      "Epoch 11/30\n",
      "225/225 [==============================] - 1s 6ms/step - loss: 0.1523 - accuracy: 0.9457 - val_loss: 0.3081 - val_accuracy: 0.9388\n",
      "Epoch 12/30\n",
      "225/225 [==============================] - 1s 6ms/step - loss: 0.1503 - accuracy: 0.9464 - val_loss: 0.3036 - val_accuracy: 0.9450\n",
      "Epoch 13/30\n",
      "225/225 [==============================] - 1s 6ms/step - loss: 0.1426 - accuracy: 0.9508 - val_loss: 0.3149 - val_accuracy: 0.9463\n",
      "Epoch 14/30\n",
      "225/225 [==============================] - 1s 6ms/step - loss: 0.1384 - accuracy: 0.9521 - val_loss: 0.2956 - val_accuracy: 0.9488\n",
      "Epoch 15/30\n",
      "225/225 [==============================] - 1s 6ms/step - loss: 0.1345 - accuracy: 0.9540 - val_loss: 0.2963 - val_accuracy: 0.9450\n",
      "Epoch 16/30\n",
      "225/225 [==============================] - 1s 6ms/step - loss: 0.1334 - accuracy: 0.9551 - val_loss: 0.3186 - val_accuracy: 0.9450\n",
      "Epoch 17/30\n",
      "225/225 [==============================] - 1s 6ms/step - loss: 0.1257 - accuracy: 0.9568 - val_loss: 0.3042 - val_accuracy: 0.9550\n",
      "Epoch 18/30\n",
      "225/225 [==============================] - 1s 6ms/step - loss: 0.1187 - accuracy: 0.9574 - val_loss: 0.3109 - val_accuracy: 0.9463\n",
      "Epoch 19/30\n",
      "225/225 [==============================] - 1s 6ms/step - loss: 0.1250 - accuracy: 0.9575 - val_loss: 0.3076 - val_accuracy: 0.9513\n",
      "Epoch 20/30\n",
      "225/225 [==============================] - 1s 6ms/step - loss: 0.1146 - accuracy: 0.9611 - val_loss: 0.3029 - val_accuracy: 0.9563\n",
      "Epoch 21/30\n",
      "225/225 [==============================] - 1s 7ms/step - loss: 0.1143 - accuracy: 0.9618 - val_loss: 0.3210 - val_accuracy: 0.9413\n",
      "Epoch 22/30\n",
      "225/225 [==============================] - 1s 6ms/step - loss: 0.1142 - accuracy: 0.9618 - val_loss: 0.2922 - val_accuracy: 0.9525\n",
      "Epoch 23/30\n",
      "225/225 [==============================] - 1s 6ms/step - loss: 0.1142 - accuracy: 0.9607 - val_loss: 0.3102 - val_accuracy: 0.9425\n",
      "Epoch 24/30\n",
      "225/225 [==============================] - 1s 6ms/step - loss: 0.1036 - accuracy: 0.9643 - val_loss: 0.3113 - val_accuracy: 0.9550\n",
      "Epoch 25/30\n",
      "225/225 [==============================] - 1s 7ms/step - loss: 0.1039 - accuracy: 0.9654 - val_loss: 0.3020 - val_accuracy: 0.9500\n",
      "Epoch 26/30\n",
      "225/225 [==============================] - 1s 6ms/step - loss: 0.0979 - accuracy: 0.9665 - val_loss: 0.3092 - val_accuracy: 0.9450\n",
      "Epoch 27/30\n",
      "225/225 [==============================] - 1s 6ms/step - loss: 0.1006 - accuracy: 0.9664 - val_loss: 0.3128 - val_accuracy: 0.9588\n",
      "Epoch 28/30\n",
      "225/225 [==============================] - 1s 7ms/step - loss: 0.0952 - accuracy: 0.9665 - val_loss: 0.3177 - val_accuracy: 0.9513\n",
      "Epoch 29/30\n",
      "225/225 [==============================] - 1s 6ms/step - loss: 0.0948 - accuracy: 0.9669 - val_loss: 0.3286 - val_accuracy: 0.9550\n",
      "Epoch 30/30\n",
      "225/225 [==============================] - 1s 6ms/step - loss: 0.0922 - accuracy: 0.9689 - val_loss: 0.3004 - val_accuracy: 0.9588\n"
     ]
    }
   ],
   "source": [
    "history = model.fit(\n",
    "    x_train,\n",
    "    y_train,\n",
    "    batch_size=32,\n",
    "    epochs=30,\n",
    "    # We pass some validation for\n",
    "    # monitoring validation loss and metrics\n",
    "    # at the end of each epoch\n",
    "    validation_data=(x_test, y_test),\n",
    ")"
   ]
  },
  {
   "cell_type": "code",
   "execution_count": 98,
   "id": "7390401d",
   "metadata": {},
   "outputs": [
    {
     "data": {
      "text/plain": [
       "(800, 200, 1)"
      ]
     },
     "execution_count": 98,
     "metadata": {},
     "output_type": "execute_result"
    }
   ],
   "source": [
    "x_test.shape"
   ]
  },
  {
   "cell_type": "code",
   "execution_count": null,
   "id": "00410709",
   "metadata": {},
   "outputs": [],
   "source": [
    "model.predict(x_test[0])"
   ]
  },
  {
   "cell_type": "code",
   "execution_count": 55,
   "id": "941abeab",
   "metadata": {},
   "outputs": [
    {
     "data": {
      "text/plain": [
       "MLPClassifier(activation='tanh', alpha=1e-07, hidden_layer_sizes=1024,\n",
       "              max_iter=100, random_state=1)"
      ]
     },
     "execution_count": 55,
     "metadata": {},
     "output_type": "execute_result"
    }
   ],
   "source": [
    "from sklearn.neural_network import MLPClassifier\n",
    "\n",
    "lf = MLPClassifier(alpha=1e-7, activation='tanh',\n",
    "                   hidden_layer_sizes=(1024), random_state=1, max_iter=100)\n",
    "lf.fit(x_train, y_train)"
   ]
  },
  {
   "cell_type": "code",
   "execution_count": 48,
   "id": "76016092",
   "metadata": {},
   "outputs": [],
   "source": [
    "from sklearn.metrics import accuracy_score"
   ]
  },
  {
   "cell_type": "code",
   "execution_count": 56,
   "id": "b6247c04",
   "metadata": {},
   "outputs": [
    {
     "data": {
      "text/plain": [
       "0.54"
      ]
     },
     "execution_count": 56,
     "metadata": {},
     "output_type": "execute_result"
    }
   ],
   "source": [
    "pred = lf.predict(x_test)\n",
    "accuracy_score(pred, y_test)"
   ]
  },
  {
   "cell_type": "code",
   "execution_count": 86,
   "id": "196df34c",
   "metadata": {},
   "outputs": [
    {
     "data": {
      "text/plain": [
       "array([2, 0, 2, 0, 0, 3, 1, 1, 1, 0, 3, 2, 3, 3, 1, 1, 2, 2, 0, 2, 2, 3,\n",
       "       3, 3, 3, 1, 0, 1, 1, 3, 0, 1, 0, 2, 0, 2, 1, 3, 2, 1, 1, 0, 1, 3,\n",
       "       2, 2, 1, 3, 3, 1, 3, 0, 2, 3, 0, 1, 1, 0, 0, 2, 3, 0, 2, 0, 1, 1,\n",
       "       3, 1, 3, 0, 2, 3, 1, 0, 3, 3, 3, 1, 0, 0, 1, 3, 1, 0, 1, 2, 3, 1,\n",
       "       3, 3, 2, 1, 0, 3, 1, 1, 1, 3, 0, 1, 1, 0, 1, 0, 2, 0, 2, 0, 2, 2,\n",
       "       0, 1, 1, 1, 1, 2, 1, 2, 1, 0, 0, 1, 1, 1, 1, 3, 1, 3, 2, 1, 3, 3,\n",
       "       2, 3, 0, 3, 3, 1, 2, 2, 1, 1, 0, 3, 3, 2, 1, 1, 2, 3, 3, 1, 1, 2,\n",
       "       0, 3, 0, 0, 0, 3, 0, 0, 1, 0, 0, 1, 1, 2, 1, 3, 3, 1, 1, 1, 1, 3,\n",
       "       3, 3, 1, 1, 3, 0, 1, 1, 2, 1, 1, 1, 3, 3, 3, 1, 3, 1, 3, 0, 1, 1,\n",
       "       0, 0, 1, 3, 0, 1, 0, 1, 3, 0, 2, 2, 0, 0, 0, 3, 0, 2, 2, 2, 2, 0,\n",
       "       2, 0, 1, 2, 1, 2, 3, 2, 2, 1, 1, 3, 2, 3, 3, 1, 1, 1, 1, 1, 0, 0,\n",
       "       3, 3, 3, 3, 0, 0, 1, 1, 1, 1, 3, 1, 3, 1, 1, 0, 0, 2, 3, 0, 2, 3,\n",
       "       0, 1, 0, 3, 0, 1, 0, 1, 1, 1, 0, 0, 0, 0, 1, 3, 3, 3, 2, 0, 1, 1,\n",
       "       0, 0, 1, 0, 2, 1, 3, 1, 2, 3, 1, 0, 1, 1, 1, 1, 1, 1, 1, 3, 1, 0,\n",
       "       3, 1, 1, 3, 2, 2, 3, 0, 0, 1, 0, 1, 3, 0, 3, 1, 1, 2, 1, 2, 3, 0,\n",
       "       1, 0, 1, 1, 3, 3, 0, 3, 0, 3, 3, 3, 1, 2, 3, 0, 0, 1, 3, 0, 0, 3,\n",
       "       1, 3, 1, 3, 2, 1, 2, 0, 1, 2, 1, 1, 1, 3, 2, 0, 1, 1, 2, 3, 0, 1,\n",
       "       1, 0, 1, 2, 3, 3, 0, 1, 3, 0, 1, 0, 1, 2, 0, 2, 2, 3, 0, 0, 3, 3,\n",
       "       3, 1, 3, 0, 1, 3, 1, 1, 3, 0, 1, 3, 1, 1, 2, 0, 2, 2, 0, 2, 1, 2,\n",
       "       0, 2, 1, 0, 3, 1, 3, 1, 0, 0, 3, 2, 3, 3, 2, 3, 3, 0, 1, 0, 0, 0,\n",
       "       1, 3, 1, 3, 3, 0, 1, 0, 2, 1, 1, 2, 0, 1, 1, 3, 1, 0, 0, 1, 0, 0,\n",
       "       3, 1, 2, 1, 0, 1, 0, 1, 1, 2, 1, 2, 3, 3, 2, 1, 1, 0, 1, 3, 3, 2,\n",
       "       1, 2, 2, 1, 1, 2, 3, 0, 3, 1, 0, 1, 0, 3, 0, 0, 0, 1, 2, 1, 2, 0,\n",
       "       0, 0, 3, 3, 2, 3, 3, 1, 1, 0, 3, 3, 2, 0, 2, 2, 0, 1, 3, 0, 3, 1,\n",
       "       3, 3, 1, 3, 0, 3, 0, 3, 1, 0, 2, 2, 1, 3, 0, 1, 0, 3, 2, 1, 0, 0,\n",
       "       1, 1, 0, 1, 1, 1, 1, 1, 2, 1, 2, 0, 2, 0, 3, 1, 3, 3, 0, 1, 0, 0,\n",
       "       0, 3, 1, 0, 3, 2, 3, 1, 1, 1, 3, 0, 0, 0, 3, 3, 0, 2, 0, 3, 1, 1,\n",
       "       0, 1, 1, 0, 0, 3, 3, 3, 1, 2, 2, 2, 0, 2, 1, 2, 1, 1, 2, 3, 0, 2,\n",
       "       1, 2, 2, 3, 2, 3, 1, 3, 3, 3, 0, 2, 0, 2, 0, 2, 3, 1, 2, 1, 2, 3,\n",
       "       2, 1, 2, 0, 2, 0, 3, 1, 1, 2, 0, 1, 0, 2, 2, 1, 0, 0, 2, 2, 2, 2,\n",
       "       2, 3, 1, 1, 1, 0, 0, 2, 1, 1, 1, 3, 2, 2, 2, 3, 1, 2, 2, 2, 3, 3,\n",
       "       0, 3, 0, 0, 2, 0, 1, 0, 3, 0, 0, 0, 2, 1, 0, 2, 0, 0, 1, 1, 0, 3,\n",
       "       2, 3, 0, 1, 2, 3, 3, 1, 0, 1, 3, 1, 0, 1, 1, 0, 0, 1, 0, 1, 2, 1,\n",
       "       0, 1, 1, 2, 0, 1, 1, 1, 1, 2, 1, 3, 1, 0, 3, 0, 1, 2, 3, 0, 1, 2,\n",
       "       1, 3, 3, 1, 1, 3, 3, 1, 3, 3, 3, 2, 0, 3, 1, 3, 1, 3, 1, 3, 3, 3,\n",
       "       1, 3, 1, 0, 2, 1, 0, 3, 2, 1, 3, 2, 3, 1, 1, 0, 0, 0, 3, 2, 3, 3,\n",
       "       0, 0, 3, 0, 1, 2, 1, 0])"
      ]
     },
     "execution_count": 86,
     "metadata": {},
     "output_type": "execute_result"
    }
   ],
   "source": [
    "pred"
   ]
  },
  {
   "cell_type": "code",
   "execution_count": 76,
   "id": "62c7dd22",
   "metadata": {},
   "outputs": [],
   "source": []
  },
  {
   "cell_type": "code",
   "execution_count": 78,
   "id": "15840065",
   "metadata": {},
   "outputs": [],
   "source": [
    "f = standardize(f)"
   ]
  },
  {
   "cell_type": "code",
   "execution_count": null,
   "id": "12bac1e3",
   "metadata": {},
   "outputs": [],
   "source": []
  }
 ],
 "metadata": {
  "kernelspec": {
   "display_name": "Python 3",
   "language": "python",
   "name": "python3"
  },
  "language_info": {
   "codemirror_mode": {
    "name": "ipython",
    "version": 3
   },
   "file_extension": ".py",
   "mimetype": "text/x-python",
   "name": "python",
   "nbconvert_exporter": "python",
   "pygments_lexer": "ipython3",
   "version": "3.9.2"
  }
 },
 "nbformat": 4,
 "nbformat_minor": 5
}
